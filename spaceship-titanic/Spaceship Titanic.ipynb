{
 "cells": [
  {
   "cell_type": "code",
   "execution_count": null,
   "id": "e1e15949",
   "metadata": {},
   "outputs": [],
   "source": [
    "import numpy as np\n",
    "import pandas as pd\n",
    "from sklearn.pipeline import Pipeline\n",
    "from sklearn.preprocessing import OrdinalEncoder\n",
    "from sklearn.preprocessing import StandardScaler\n",
    "from sklearn.impute import SimpleImputer\n",
    "from sklearn.compose import ColumnTransformer\n",
    "from sklearn.linear_model import LogisticRegression"
   ]
  },
  {
   "cell_type": "code",
   "execution_count": null,
   "id": "e19fa5a4",
   "metadata": {},
   "outputs": [],
   "source": [
    "df_train = pd.read_csv('train.csv')\n",
    "df_test = pd.read_csv('test.csv')"
   ]
  },
  {
   "cell_type": "code",
   "execution_count": null,
   "id": "4a2e2cb7",
   "metadata": {},
   "outputs": [],
   "source": [
    "df_train.columns"
   ]
  },
  {
   "cell_type": "code",
   "execution_count": null,
   "id": "476d595c",
   "metadata": {},
   "outputs": [],
   "source": [
    "df_train_x = df_train.drop(['PassengerId','Transported'],axis='columns')\n",
    "df_train_y = df_train['Transported']\n",
    "df_test_x = df_test.drop(['PassengerId'],axis='columns')"
   ]
  },
  {
   "cell_type": "code",
   "execution_count": null,
   "id": "7c2e2f22",
   "metadata": {},
   "outputs": [],
   "source": [
    "y_prepared = list(map(int,df_train_y))\n",
    "y_train = np.array(y_prepared)\n",
    "y_train.reshape(-1)\n",
    "y_train"
   ]
  },
  {
   "cell_type": "code",
   "execution_count": null,
   "id": "d308c220",
   "metadata": {},
   "outputs": [],
   "source": [
    "object_col = ['HomePlanet','CryoSleep','Cabin','Destination','VIP','Name']\n",
    "num_col = ['Age','RoomService','FoodCourt','ShoppingMall','Spa','VRDeck']\n",
    "\n",
    "num_pipeline=Pipeline(\n",
    "    [\n",
    "        ('imputer',SimpleImputer(strategy='median')),\n",
    "        ('std_scaler',StandardScaler())\n",
    "    ])\n",
    "cat_pipeline=Pipeline(\n",
    "    [\n",
    "        ('imputer',SimpleImputer(strategy='most_frequent')),\n",
    "        ('ordinal_encoder',OrdinalEncoder())\n",
    "    ])\n",
    "full_pipeline= ColumnTransformer([\n",
    "        ('num',num_pipeline,num_col),\n",
    "        ('cat',cat_pipeline,object_col)\n",
    "    ])"
   ]
  },
  {
   "cell_type": "code",
   "execution_count": null,
   "id": "2c03afeb",
   "metadata": {},
   "outputs": [],
   "source": [
    "object_col = ['HomePlanet','CryoSleep','Cabin','Destination','VIP','Name']\n",
    "num_col = ['Age','RoomService','FoodCourt','ShoppingMall','Spa','VRDeck']\n",
    "\n",
    "X_train = full_pipeline.fit_transform(df_train_x)\n",
    "X_test = full_pipeline.fit_transform(df_test_x)"
   ]
  },
  {
   "cell_type": "code",
   "execution_count": null,
   "id": "ca893a89",
   "metadata": {},
   "outputs": [],
   "source": [
    "X_train"
   ]
  },
  {
   "cell_type": "code",
   "execution_count": null,
   "id": "4a7b8a47",
   "metadata": {},
   "outputs": [],
   "source": [
    "lr = LogisticRegression()"
   ]
  },
  {
   "cell_type": "code",
   "execution_count": null,
   "id": "6ba00b5c",
   "metadata": {},
   "outputs": [],
   "source": [
    "lr.fit(X_train,y_train)"
   ]
  },
  {
   "cell_type": "code",
   "execution_count": null,
   "id": "880cf109",
   "metadata": {},
   "outputs": [],
   "source": [
    "y_pred = lr.predict(X_test)"
   ]
  },
  {
   "cell_type": "code",
   "execution_count": null,
   "id": "83156115",
   "metadata": {},
   "outputs": [],
   "source": [
    "y_pred=list(map(bool,y_pred))\n",
    "y_pred=np.array(y_pred)\n",
    "y_pred.reshape(-1)\n",
    "y_pred"
   ]
  },
  {
   "cell_type": "code",
   "execution_count": null,
   "id": "1879aa71",
   "metadata": {},
   "outputs": [],
   "source": [
    "df_sub=pd.read_csv('sample_submission.csv')"
   ]
  },
  {
   "cell_type": "code",
   "execution_count": null,
   "id": "da61747a",
   "metadata": {},
   "outputs": [],
   "source": [
    "output = pd.DataFrame({'PassengerId': df_sub.PassengerId, 'Transported': y_pred})\n",
    "output.to_csv('submission.csv', index=False)"
   ]
  },
  {
   "cell_type": "code",
   "execution_count": null,
   "id": "1d250f43",
   "metadata": {},
   "outputs": [],
   "source": []
  }
 ],
 "metadata": {
  "kernelspec": {
   "display_name": "Python 3 (ipykernel)",
   "language": "python",
   "name": "python3"
  },
  "language_info": {
   "codemirror_mode": {
    "name": "ipython",
    "version": 3
   },
   "file_extension": ".py",
   "mimetype": "text/x-python",
   "name": "python",
   "nbconvert_exporter": "python",
   "pygments_lexer": "ipython3",
   "version": "3.11.4"
  }
 },
 "nbformat": 4,
 "nbformat_minor": 5
}
