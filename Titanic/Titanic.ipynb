{
 "cells": [
  {
   "cell_type": "code",
   "execution_count": null,
   "id": "7f59cf20",
   "metadata": {},
   "outputs": [],
   "source": [
    "import pandas as pd\n",
    "import numpy as np\n",
    "\n",
    "import matplotlib.pyplot as plt\n",
    "import seaborn as sns\n",
    "\n",
    "from sklearn.preprocessing import LabelEncoder\n",
    "from sklearn.preprocessing import StandardScaler\n",
    "\n",
    "from sklearn.model_selection import train_test_split\n",
    "from sklearn.model_selection import GridSearchCV\n",
    "from sklearn.model_selection import StratifiedKFold, cross_val_score\n",
    "\n",
    "from sklearn.linear_model import LogisticRegression\n",
    "from sklearn.svm import SVC\n",
    "from sklearn.neighbors import KNeighborsClassifier\n",
    "from sklearn.tree import DecisionTreeClassifier\n",
    "from sklearn.ensemble import RandomForestClassifier, AdaBoostClassifier, GradientBoostingClassifier\n",
    "from xgboost import XGBClassifier\n",
    "\n",
    "\n",
    "from sklearn.metrics import make_scorer, f1_score, accuracy_score, recall_score, precision_score\n",
    "from sklearn.metrics import classification_report, confusion_matrix"
   ]
  },
  {
   "cell_type": "code",
   "execution_count": null,
   "id": "e90b01d6",
   "metadata": {},
   "outputs": [],
   "source": [
    "data = pd.read_csv('train.csv')"
   ]
  },
  {
   "cell_type": "code",
   "execution_count": null,
   "id": "8a487d32",
   "metadata": {},
   "outputs": [],
   "source": [
    "data"
   ]
  },
  {
   "cell_type": "code",
   "execution_count": null,
   "id": "b090f9d7",
   "metadata": {},
   "outputs": [],
   "source": [
    "data = pd.DataFrame(data)\n",
    "data.head()"
   ]
  },
  {
   "cell_type": "code",
   "execution_count": null,
   "id": "5c65484e",
   "metadata": {},
   "outputs": [],
   "source": [
    "data.tail()"
   ]
  },
  {
   "cell_type": "code",
   "execution_count": null,
   "id": "5d25a2d4",
   "metadata": {},
   "outputs": [],
   "source": [
    "data.shape"
   ]
  },
  {
   "cell_type": "code",
   "execution_count": null,
   "id": "bc8549d9",
   "metadata": {},
   "outputs": [],
   "source": [
    "data.describe()"
   ]
  },
  {
   "cell_type": "code",
   "execution_count": null,
   "id": "9abb6a71",
   "metadata": {},
   "outputs": [],
   "source": [
    "data.isnull().sum()"
   ]
  },
  {
   "cell_type": "code",
   "execution_count": null,
   "id": "3fc30c7e",
   "metadata": {},
   "outputs": [],
   "source": [
    "data['Age'].fillna(data['Age'].median(), inplace=True)\n",
    "data['Embarked'].fillna(data['Embarked'].mode(), inplace=True)"
   ]
  },
  {
   "cell_type": "code",
   "execution_count": null,
   "id": "ebb7e529",
   "metadata": {},
   "outputs": [],
   "source": [
    "data['Embarked'].isnull().sum()"
   ]
  },
  {
   "cell_type": "code",
   "execution_count": null,
   "id": "716c7b39",
   "metadata": {},
   "outputs": [],
   "source": [
    "data"
   ]
  },
  {
   "cell_type": "code",
   "execution_count": null,
   "id": "52aa4921",
   "metadata": {},
   "outputs": [],
   "source": [
    "survival_rate_by_sex = data.groupby('Sex')['Survived'].mean().sort_values(ascending=False)"
   ]
  },
  {
   "cell_type": "code",
   "execution_count": null,
   "id": "95568e16",
   "metadata": {},
   "outputs": [],
   "source": [
    "sns.barplot(data=data, x=survival_rate_by_sex.index, y=survival_rate_by_sex.values, palette='husl')\n",
    "plt.show()"
   ]
  },
  {
   "cell_type": "code",
   "execution_count": null,
   "id": "4e30dc20",
   "metadata": {},
   "outputs": [],
   "source": [
    "data.Age.describe()"
   ]
  },
  {
   "cell_type": "code",
   "execution_count": null,
   "id": "a0fe9bd4",
   "metadata": {},
   "outputs": [],
   "source": [
    "bins = [0, 10, 20, 30, 40, 50, 60, 70, 80]\n",
    "labels = ['0-9','10-19','20-29','30-39','40-49','50-59','60-69','70-79']\n",
    "\n",
    "data['age_group'] =pd.cut(data['Age'], bins=bins, right=False, labels=labels, include_lowest=True)"
   ]
  },
  {
   "cell_type": "code",
   "execution_count": null,
   "id": "e5333e3b",
   "metadata": {},
   "outputs": [],
   "source": [
    "survival_rate_by_age = data.groupby('age_group')['Survived'].mean()\n",
    "\n",
    "survival_rate_by_age_group = survival_rate_by_age.reset_index()\n",
    "sns.barplot(x='age_group', y='Survived', data=survival_rate_by_age_group, palette='husl')"
   ]
  },
  {
   "cell_type": "code",
   "execution_count": null,
   "id": "6d0aa5af",
   "metadata": {},
   "outputs": [],
   "source": [
    "data.Fare.describe()"
   ]
  },
  {
   "cell_type": "code",
   "execution_count": null,
   "id": "a254ffb3",
   "metadata": {},
   "outputs": [],
   "source": [
    "fare_bins = [0,50,100,200,300,400,500,600]\n",
    "fare_labels =['0-50','51-100','101-200','201-300','301-400','401-500','501-600']\n",
    "data['FareRange'] = pd.cut(data['Fare'], bins=fare_bins, labels=fare_labels, right=False, include_lowest=True)"
   ]
  },
  {
   "cell_type": "code",
   "execution_count": null,
   "id": "3dc42fa5",
   "metadata": {},
   "outputs": [],
   "source": [
    "survival_rate_by_fare = data.groupby('FareRange')['Survived'].mean()\n",
    "survival_rate_by_farerange = survival_rate_by_fare.reset_index()\n",
    "sns.barplot(data=survival_rate_by_farerange, x='FareRange',y='Survived', palette='flare')\n",
    "plt.show()"
   ]
  },
  {
   "cell_type": "code",
   "execution_count": null,
   "id": "f4c995ad",
   "metadata": {},
   "outputs": [],
   "source": [
    "sns.countplot(x='Embarked', hue='Survived', palette='husl', data=data)"
   ]
  },
  {
   "cell_type": "code",
   "execution_count": null,
   "id": "25805246",
   "metadata": {},
   "outputs": [],
   "source": [
    "num_feature = ['Fare', 'Age']\n",
    "for i in num_feature:\n",
    "    sns.displot(data[i], kde=True, color='navy')\n",
    "    plt.show()"
   ]
  },
  {
   "cell_type": "code",
   "execution_count": null,
   "id": "5a95f171",
   "metadata": {},
   "outputs": [],
   "source": [
    "avg_age_by_sex = data.groupby('Sex')['Age'].mean().reset_index()\n",
    "sns.barplot(x='Sex', y='Age', data=avg_age_by_sex, palette='Set3')"
   ]
  },
  {
   "cell_type": "code",
   "execution_count": null,
   "id": "a57c74c0",
   "metadata": {},
   "outputs": [],
   "source": [
    "sns.countplot(x='Pclass', hue='Survived', data=data, palette=['#D6A2E8','#25CCF7'])\n",
    "plt.show()"
   ]
  },
  {
   "cell_type": "code",
   "execution_count": null,
   "id": "6388e3a3",
   "metadata": {},
   "outputs": [],
   "source": [
    "sns.violinplot(x='Pclass', y='Fare', hue='Survived', data=data, split=True, pallete=['#F8EFBA','#FD7272'])"
   ]
  },
  {
   "cell_type": "code",
   "execution_count": null,
   "id": "862f4274",
   "metadata": {},
   "outputs": [],
   "source": [
    "sns.violinplot(x='Sex', y='Age', hue='Survived', data=data, split=True, palette=['#58b19f','#f7f1e3'])"
   ]
  },
  {
   "cell_type": "code",
   "execution_count": null,
   "id": "aaaaa7e6",
   "metadata": {},
   "outputs": [],
   "source": [
    "data['Familysize'] =data['SibSp']+data['Parch']+1"
   ]
  },
  {
   "cell_type": "code",
   "execution_count": null,
   "id": "f6f013ea",
   "metadata": {},
   "outputs": [],
   "source": [
    "def family_size_cat(size):\n",
    "    if size == 1:\n",
    "        return 'Solo'\n",
    "    elif 2<= size <=4:\n",
    "        return 'Small'\n",
    "    elif 5 <= size <= 7:\n",
    "        return 'Medium'\n",
    "    else:\n",
    "        return 'Large'\n",
    "    \n",
    "data['FamilyCat'] =data['Familysize'].apply(family_size_cat)    "
   ]
  },
  {
   "cell_type": "code",
   "execution_count": null,
   "id": "634bd819",
   "metadata": {},
   "outputs": [],
   "source": [
    "data"
   ]
  },
  {
   "cell_type": "code",
   "execution_count": null,
   "id": "1ea98d45",
   "metadata": {},
   "outputs": [],
   "source": [
    "sns.countplot(x='FamilyCat', hue='Survived',data=data, palette=['#3dc1d3','#ea8685'])"
   ]
  },
  {
   "cell_type": "code",
   "execution_count": null,
   "id": "9f37d6d8",
   "metadata": {},
   "outputs": [],
   "source": [
    "data.drop(['Name', 'Cabin','Ticket','SibSp','Parch','Familysize','age_group','FareRange','PassengerId'], axis=1, inplace=True)"
   ]
  },
  {
   "cell_type": "code",
   "execution_count": null,
   "id": "ca8fe91f",
   "metadata": {},
   "outputs": [],
   "source": [
    "data"
   ]
  },
  {
   "cell_type": "code",
   "execution_count": null,
   "id": "83119018",
   "metadata": {},
   "outputs": [],
   "source": [
    "data.replace({'female':1,'male':0}, inplace=True)\n",
    "data.shape"
   ]
  },
  {
   "cell_type": "code",
   "execution_count": null,
   "id": "0421d9f3",
   "metadata": {},
   "outputs": [],
   "source": [
    "le = LabelEncoder()\n",
    "data['FamilyCat'] = le.fit_transform(data['FamilyCat'])\n",
    "data"
   ]
  },
  {
   "cell_type": "code",
   "execution_count": null,
   "id": "28902296",
   "metadata": {},
   "outputs": [],
   "source": [
    "embarked_dummies = pd.get_dummies(data['Embarked'], prefix='Embarked').drop('Embarked_S', axis=1)\n",
    "data = pd.concat([data, embarked_dummies], axis=1)\n",
    "data"
   ]
  },
  {
   "cell_type": "code",
   "execution_count": null,
   "id": "8710ce5d",
   "metadata": {},
   "outputs": [],
   "source": [
    "X = data.drop(['Survived', 'Embarked'], axis=1)\n",
    "y = data['Survived']\n",
    "X"
   ]
  },
  {
   "cell_type": "code",
   "execution_count": null,
   "id": "3600ac4a",
   "metadata": {},
   "outputs": [],
   "source": [
    "num_cols = ['Age', 'Fare']\n",
    "scaler = StandardScaler()\n",
    "scaler.fit(X[num_cols])\n",
    "X[num_cols] = scaler.transform(X[num_cols])"
   ]
  },
  {
   "cell_type": "code",
   "execution_count": null,
   "id": "a196c84f",
   "metadata": {},
   "outputs": [],
   "source": [
    "X"
   ]
  },
  {
   "cell_type": "code",
   "execution_count": null,
   "id": "d581643a",
   "metadata": {},
   "outputs": [],
   "source": [
    "X_train, X_test, y_train, y_test = train_test_split(X, y, test_size=0.2, random_state=32)"
   ]
  },
  {
   "cell_type": "code",
   "execution_count": null,
   "id": "b4803eb0",
   "metadata": {},
   "outputs": [],
   "source": [
    "models = {\n",
    "    'RandomForest':(RandomForestClassifier(),\n",
    "                   {'n_estimators':[50, 100, 200]}),\n",
    "    'XGB':(XGBClassifier(),\n",
    "          {'max_depth':[3, 5, 7]}),\n",
    "    'AdaBoost':(AdaBoostClassifier(),\n",
    "               {'n_estimators':[50,100,200]}),\n",
    "    'DecisionTree':(DecisionTreeClassifier(),\n",
    "                   {'max_depth':[None, 10,20, 30]}),\n",
    "    'SVC':(SVC(),\n",
    "          {'C':[0.1,1,10]}),\n",
    "    'GradientBoosting':(GradientBoostingClassifier(),\n",
    "                        {'n_estimators':[50, 100, 200]}),\n",
    "    'KNN':(KNeighborsClassifier(),\n",
    "          {'n_neighbor':[3,5,7]})\n",
    "}\n",
    "\n",
    "scorer_name = 'F1-score'\n",
    "scorer = make_scorer(f1_score)\n",
    "\n",
    "\n",
    "for name, (model, param_grid) in models.items():\n",
    "    grid_search = GridSearchCV(model, param_grid, scoring=scorer, cv=5)\n",
    "    grid_search.fit(X_train, y_train)\n",
    "    \n",
    "    print(f'Best hyperparameter for {name}:{grid_search.best_params_}')\n",
    "    print(f'Best {scorer_name} score : {grid_search.best_score_:.2%}')\n",
    "          \n",
    "    best_model = grid_search.best_estimator_\n",
    "    y_pred = best_model.predict(X_test)\n",
    "    accuracy = accuracy_score(y_test, y_pred)\n",
    "    precision = precision_score(y_test, y_pred)\n",
    "    recall = recall_score(y_test, y_pred)\n",
    "    f1 = f1_score(y_test, y_pred)\n",
    "          \n",
    "    print(f'Accuracy : {accuracy:.2%}')\n",
    "    print(f'Precision : {precision:.2%}')\n",
    "    print(f'Recall : {recall:.2%}')\n",
    "    print(f'F1-score : {f1:.2%}')      \n",
    "          \n",
    "          "
   ]
  },
  {
   "cell_type": "code",
   "execution_count": null,
   "id": "94b293fc",
   "metadata": {},
   "outputs": [],
   "source": [
    "test = pd.read_csv(\"test.csv\")"
   ]
  },
  {
   "cell_type": "code",
   "execution_count": null,
   "id": "c0ad8803",
   "metadata": {},
   "outputs": [],
   "source": [
    "test_data = pd.DataFrame(test)\n",
    "test_data.isnull().sum()"
   ]
  },
  {
   "cell_type": "code",
   "execution_count": null,
   "id": "abe2cf88",
   "metadata": {},
   "outputs": [],
   "source": [
    "test_data['Age'].fillna(test_data['Age'].median(), inplace=True)\n",
    "test_data['Embarked'].fillna(test_data['Embarked'].mode(), inplace=True)\n",
    "test_data['Fare'].fillna(test_data['Fare'].mean(), inplace=True)\n",
    "\n",
    "test_data.duplicated().sum()"
   ]
  },
  {
   "cell_type": "code",
   "execution_count": null,
   "id": "d88f8f91",
   "metadata": {},
   "outputs": [],
   "source": [
    "test_data['Familysize'] = test_data['SibSp'] + test_data['Parch']+1\n",
    "def family_size_cat(size):\n",
    "    if size ==1:\n",
    "        return 'Solo'\n",
    "    elif 2<= size <=4:\n",
    "        return 'Small'\n",
    "    elif 5<= size <=7:\n",
    "        return 'Medium'\n",
    "    else:\n",
    "        return 'Large'\n",
    "    \n",
    "test_data['FamilyCat'] = test_data['Familysize'].apply(family_size_cat)    "
   ]
  },
  {
   "cell_type": "code",
   "execution_count": null,
   "id": "bea15123",
   "metadata": {},
   "outputs": [],
   "source": [
    "test_data.drop(['Name','Cabin','Ticket','SibSp','Parch','Familysize'], axis=1, inplace=True)"
   ]
  },
  {
   "cell_type": "code",
   "execution_count": null,
   "id": "2027afb1",
   "metadata": {},
   "outputs": [],
   "source": [
    "test_data.replace({'female':1, 'male':0}, inplace=True)\n",
    "test_data['FamilyCat'] = le.fit_transform(test_data['FamilyCat'])\n",
    "embarked_dummies = pd.get_dummies(test_data['Embarked'], prefix='Embarked').drop('Embarked_S',axis=1)\n",
    "test_data = pd.concat([test_data, embarked_dummies], axis=1)\n",
    "test_data.drop('Embarked', axis=1, inplace=True)"
   ]
  },
  {
   "cell_type": "code",
   "execution_count": null,
   "id": "051e4132",
   "metadata": {},
   "outputs": [],
   "source": [
    "test_data.isnull().sum()"
   ]
  },
  {
   "cell_type": "code",
   "execution_count": null,
   "id": "29f4d00d",
   "metadata": {},
   "outputs": [],
   "source": [
    "PassengerId = test_data['PassengerId']\n",
    "test_data.drop('PassengerId', axis=1, inplace=True)"
   ]
  },
  {
   "cell_type": "code",
   "execution_count": null,
   "id": "eca52ebd",
   "metadata": {},
   "outputs": [],
   "source": [
    "test_pred = best_model.predict(test_data)"
   ]
  },
  {
   "cell_type": "code",
   "execution_count": null,
   "id": "66c6d489",
   "metadata": {},
   "outputs": [],
   "source": [
    "submission = pd.DataFrame({'PassengerId': PassengerId, 'Survived': test_pred})\n",
    "submission.to_csv('submission.csv', index=False)"
   ]
  },
  {
   "cell_type": "code",
   "execution_count": null,
   "id": "7a2f3b57",
   "metadata": {},
   "outputs": [],
   "source": []
  }
 ],
 "metadata": {
  "kernelspec": {
   "display_name": "Python 3 (ipykernel)",
   "language": "python",
   "name": "python3"
  },
  "language_info": {
   "codemirror_mode": {
    "name": "ipython",
    "version": 3
   },
   "file_extension": ".py",
   "mimetype": "text/x-python",
   "name": "python",
   "nbconvert_exporter": "python",
   "pygments_lexer": "ipython3",
   "version": "3.11.4"
  }
 },
 "nbformat": 4,
 "nbformat_minor": 5
}
